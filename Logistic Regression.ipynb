{
 "cells": [
  {
   "cell_type": "markdown",
   "metadata": {},
   "source": [
    "## Logistic regression to perform two-class and multi-class classification for real-world tasks. \n",
    "### Part-1 (Binary Classification):\n",
    "\n",
    "For this problem, we will use a subset of [Wisconsin Breast cancer dataset](https://archive.ics.uci.edu/ml/datasets/Breast+Cancer+Wisconsin+(Diagnostic). Note that this dataset has some information missing. \n",
    "\n",
    "**1.1 Data Munging** \n",
    "\n",
    "Cleaning the data is essential when dealing with real world problems. Training and testing data is stored in \"data/wisconsin_data\" folder. You have to perform the following:\n",
    "* Read the training and testing data. Print the number of features in the dataset.\n",
    "* For the data label, print the total number of 1's and 0's in the training and testing data. Comment on the class distribution. Is it balanced or unbalanced?\n",
    "* Print the number of features with missing entries.\n",
    "* Fill the missing entries. For filling any feature, you can use either mean or median value of the feature values from observed entries.\n",
    "* Normalize the training and testing data.\n",
    "\n",
    "**1.2 Logistic Regression ** \n",
    "Train logistic regression models with L1 regularization and L2 regularization using alpha = 0.1 and lambda = 0.1. Report accuracy, precision, recall, f1-score and print the confusion matrix.\n",
    "\n",
    "**1.3 Choosing the best hyper-parameter ** \n",
    "* For L1 model, choose the best alpha value from the following set: {0.1,1,3,10,33,100,333,1000, 3333, 10000, 33333}.\n",
    "* For L2 model, choose the best lambda value from the following set: {0.001, 0.003, 0.01, 0.03, 0.1,0.3,1,3,10,33}.\n",
    "\n",
    "To choose the best hyperparameter (alpha/lambda) value, you have to do the following:\n",
    "* For each value of hyperparameter, perform 100 random splits of training data into training and validation data. \n",
    "* Find the average validation accuracy for each 100 train/validate pairs.\n",
    "The best hyperparameter will be the one that gives maximum validation accuracy. Use the best alpha and lambda parameter to re-train your final L1 and L2 regularized model. Evaluate the prediction performance on the test data and report the following:\n",
    "* Precision\n",
    "* Accuracy\n",
    "* The top 5 features selected in decreasing order of feature weights.\n",
    "* Confusion matrix\n",
    "\n",
    "Finally, discuss if there is any sign of underfitting or overfitting with appropriate reasoning.\n",
    "\n",
    "### Part-2 (Multiclass Classification):\n",
    "\n",
    "For this experiment, we will use a small subset of [MNIST dataset for handwritten digits](http://yann.lecun.com/exdb/mnist/). This dataset has no missing data. You will have to implement one-versus-rest scheme to perform multi-class classification using a binary classifier based on L1 regularized logistic regression. \n",
    "\n",
    "**2.1 Read and understand the data, create a default One-vs-Rest Classifier **\n",
    "\n",
    "1- Use the data from the file reduced_mnist.csv in the data directory. Begin by reading the data. Print the following information:\n",
    "\n",
    "* Number of data points\n",
    "* Total number of features\n",
    "* Unique labels in the data\n",
    "\n",
    "2- Split the data into 70% training data and 30% test data. Fit a One-vs-Rest Classifier (which uses Logistic regression classifier with alpha=1) on training data, and report accuracy, precision, recall on testing data.\n",
    "\n",
    "**2.2 Choosing the best hyper-parameter **\n",
    "\n",
    "1- As in section **1.3** above, now create 10 random splits of training data into training and validation data. Choose the best value of alpha from the following set: {0.1, 1, 3, 10, 33, 100, 333, 1000, 3333, 10000, 33333}.\n",
    "To choose the best alpha hyperparameter value, you have to do the following:\n",
    "\n",
    "* For each value of hyperparameter, perform 10 random splits of training data into training and validation data as said above. \n",
    "* For each value of hyperparameter, use its 10 random splits and find the average training and validation accuracy.\n",
    "* On a graph, plot both the average training accuracy (in red) and average validation accuracy (in blue) w.r.t. each hyperparameter setting. Comment on this graph by identifying regions of overfitting and underfitting. \n",
    "* Print the best value of alpha hyperparameter.\n",
    "\n",
    "2- Evaluate the prediction performance on test data and report the following:\n",
    "* Total number of non-zero features in the final model.\n",
    "* The confusion matrix\n",
    "* Precision, recall and accuracy for each class.\n",
    "\n",
    "Finally, discuss if there is any sign of underfitting or overfitting with appropriate reasoning.\n",
    "\n",
    "## References\n",
    "* [Finding missing values](https://chartio.com/resources/tutorials/how-to-check-if-any-value-is-nan-in-a-pandas-dataframe)\n",
    "* [Titanic Problem](http://nbviewer.jupyter.org/github/agconti/kaggle-titanic/blob/master/Titanic.ipynb)\n",
    "* [Numpy: Sorting and Searching](http://docs.scipy.org/doc/numpy/reference/routines.sort.html)\n",
    "* [Multiclass Classification](http://scikit-learn.org/stable/modules/multiclass.html)"
   ]
  },
  {
   "cell_type": "markdown",
   "metadata": {},
   "source": [
    "# Part-1 (Binary Classification) Solutions"
   ]
  },
  {
   "cell_type": "markdown",
   "metadata": {},
   "source": [
    "## Importing Libraries\n",
    "\n",
    "Here we are going to import libraries that are to be used for executing the code."
   ]
  },
  {
   "cell_type": "code",
   "execution_count": 3,
   "metadata": {
    "collapsed": true
   },
   "outputs": [],
   "source": [
    "import numpy as num                                                   #It is used for arrays, calculations and matrices\n",
    "import pandas as pd                                                   #It is used for reading and writing the csv files\n",
    "from sklearn.preprocessing import scale                               #It is used for normalizing the data\n",
    "from sklearn.linear_model import LogisticRegression                   #It is used for implememnting the L1 and L2 regualrizations\n",
    "from sklearn.metrics import recall_score                              #It is used for calculating the recall score\n",
    "from sklearn.metrics import f1_score                                  #It is used for calculating the f1 score\n",
    "from sklearn.metrics import confusion_matrix                          #It is used for calculating the confusion matrix\n",
    "from sklearn.metrics import accuracy_score                            #It is used for calculating the accuracy score\n",
    "from sklearn.metrics import precision_score                           #It is used for calculating the precision score\n",
    "from sklearn.cross_validation import train_test_split                 #It is used for splitting the data in 2 parts\n",
    "import matplotlib.pyplot as plt                                       #It is used for plotting graphs and charts\n",
    "%matplotlib inline"
   ]
  },
  {
   "cell_type": "markdown",
   "metadata": {},
   "source": [
    "## 1.1 Data Munging Solutions"
   ]
  },
  {
   "cell_type": "markdown",
   "metadata": {},
   "source": [
    "### a. Reading Files\n",
    "\n",
    "Here we are going to read the training and test data files using pandas and print the number of features in the dataset."
   ]
  },
  {
   "cell_type": "code",
   "execution_count": 4,
   "metadata": {
    "collapsed": true
   },
   "outputs": [],
   "source": [
    "#Reading training file and storing in the traindata variable\n",
    "traindata = pd.read_csv(\"data/wisconsin_data/train_wbcd.csv\", delimiter=',')\n",
    "#print traindata\n",
    "\n",
    "#Reading test file and storing in the testdata variable\n",
    "testdata = pd.read_csv(\"data/wisconsin_data/test_wbcd.csv\", delimiter=',')\n",
    "#print testdata"
   ]
  },
  {
   "cell_type": "markdown",
   "metadata": {},
   "source": [
    "As the type of traindata and testdata is Dataframe, i'm using iloc to retrieve the values from it. After selecting the columns for each dataset, len function is used to find the total features."
   ]
  },
  {
   "cell_type": "code",
   "execution_count": 5,
   "metadata": {},
   "outputs": [
    {
     "name": "stdout",
     "output_type": "stream",
     "text": [
      "Number of features in train data are : 30\n",
      "Number of features in test data are  : 30\n"
     ]
    }
   ],
   "source": [
    "#Selecting all rows and the selected columns for the features from the training data\n",
    "train_feature = traindata.iloc[:,2:32]\n",
    "print \"Number of features in train data are :\",len(train_feature.T)\n",
    "\n",
    "#Selecting all rows and the selected columns for the features from the test data\n",
    "test_feature = testdata.iloc[:,2:32]\n",
    "print \"Number of features in test data are  :\",len(test_feature.T)"
   ]
  },
  {
   "cell_type": "markdown",
   "metadata": {},
   "source": [
    "### b. Finding 1's and 0's\n",
    "\n",
    "Here, we have to find number of 1's and 0's for training and test data. For this, we are first checking if the value in the traindata/testdata is equal to 1/0 and then selecting the sum along each row and then doing the final sum for that label."
   ]
  },
  {
   "cell_type": "code",
   "execution_count": 6,
   "metadata": {},
   "outputs": [
    {
     "name": "stdout",
     "output_type": "stream",
     "text": [
      "Number of 0 in training set is :  36\n",
      "Number of 1 in training set is :  0\n",
      "Number of 0 in test set is     :  6\n",
      "Number of 1 in test set is     :  0\n"
     ]
    }
   ],
   "source": [
    "#Calculating the 1's and 0's in the training data\n",
    "print \"Number of 0 in training set is : \",(traindata == 0).astype(int).sum(axis=0).sum()\n",
    "print \"Number of 1 in training set is : \",(traindata == 1).astype(int).sum(axis=0).sum()\n",
    "\n",
    "#Calculating the 1's and 0's in the test data\n",
    "print \"Number of 0 in test set is     : \",(testdata == 0).astype(int).sum(axis=0).sum()\n",
    "print \"Number of 1 in test set is     : \",(testdata == 1).astype(int).sum(axis=0).sum()\n"
   ]
  },
  {
   "cell_type": "markdown",
   "metadata": {},
   "source": [
    "If we look at the number of 0's and 1's in training set, it is 36 and 0 respectively. We can see the overall ratio is very high. From this, we can interpret that the class distribution is <b>unbalanced</b>. For the class distributio to be balanced the ratio of 1's and 0's should be same."
   ]
  },
  {
   "cell_type": "markdown",
   "metadata": {},
   "source": [
    "### c. Finding missing values\n",
    "\n",
    "Here, we have to find the missing values in training and test data. We are using pandas to convert it to dataframe, so that we can use the isnull() function under pandas to find the null values. If we use sum() function once, it will list null values for each feature, so to find the entire sum of missing values we are summing up the values for each feature again."
   ]
  },
  {
   "cell_type": "code",
   "execution_count": 7,
   "metadata": {},
   "outputs": [
    {
     "name": "stdout",
     "output_type": "stream",
     "text": [
      "Features with missing entries in training set :  2\n",
      "Features with missing entries in test set     :  1\n"
     ]
    }
   ],
   "source": [
    "#Computing the missing entries in the training data\n",
    "traindata = pd.DataFrame(traindata)\n",
    "print \"Features with missing entries in training set : \",traindata.isnull().sum().sum()\n",
    "\n",
    "#Computing the missing entries in the test data\n",
    "testdata = pd.DataFrame(testdata)\n",
    "print \"Features with missing entries in test set     : \",testdata.isnull().sum().sum()"
   ]
  },
  {
   "cell_type": "markdown",
   "metadata": {},
   "source": [
    "### d. Filling missing values\n",
    "\n",
    "Here, we have to fill the missing values in training and test data. From the above code, we found out the missing values were missing in the feature f21. To fill the values, we can either use mean or median values but here median is used. We are selecting the entire feature column f21 and using the median to calculate the value. To fill the value, fillna function is used that will subsitute the median value in the missing data. In the output we can see now there are no missing values in the train and test features."
   ]
  },
  {
   "cell_type": "code",
   "execution_count": 8,
   "metadata": {},
   "outputs": [
    {
     "name": "stdout",
     "output_type": "stream",
     "text": [
      "Features with missing entries in training set :  0\n",
      "Features with missing entries in test set :  0\n"
     ]
    }
   ],
   "source": [
    "train_feature [\"f21\"] =train_feature [\"f21\"].fillna(train_feature [\"f21\"].median() )\n",
    "print \"Features with missing entries in training set : \",pd.isnull(train_feature).sum().sum()\n",
    "\n",
    "#print train_feature [\"f21\"].median()\n",
    "test_feature [\"f21\"] =test_feature [\"f21\"].fillna(test_feature [\"f21\"].median() )\n",
    "\n",
    "print \"Features with missing entries in test set : \",pd.isnull(test_feature).sum().sum()"
   ]
  },
  {
   "cell_type": "markdown",
   "metadata": {},
   "source": [
    "### e. Normalizing the dataset\n",
    "\n",
    "We are using the scale function to normalize the traindata and testdata."
   ]
  },
  {
   "cell_type": "code",
   "execution_count": 9,
   "metadata": {
    "collapsed": true
   },
   "outputs": [],
   "source": [
    "train_feature = scale(train_feature)\n",
    "#print Xnorm_train_feature"
   ]
  },
  {
   "cell_type": "code",
   "execution_count": 10,
   "metadata": {
    "collapsed": true
   },
   "outputs": [],
   "source": [
    "test_feature = scale(test_feature)\n",
    "#print Xnorm_test_feature"
   ]
  },
  {
   "cell_type": "markdown",
   "metadata": {},
   "source": [
    "## 1.2 Logistic Regression\n",
    "\n",
    "We are training our model using logistic regression models with L1 regularization and L2 regularization using alpha = 0.1 and lambda = 0.1. We have created the function modeltraining which accepts either alpha/lambda value and the regularization value and then we use the logisticregression function to compute our model. To compute the different scores we have passed the true labels and the predicted labels in the following functions:\n",
    "\n",
    "<b>Accuracy</b> - accuracy_score\n",
    "\n",
    "<b>Precision</b> - precision_score\n",
    "\n",
    "<b>Recall</b> - recall_score\n",
    "\n",
    "<b>F1</b> - f1_score\n",
    "\n",
    "<b>Confusion Matrix</b> - confusion_matrix\n",
    "\n",
    "As we can see the labels are not in binary format, so we have used average='weighted'."
   ]
  },
  {
   "cell_type": "code",
   "execution_count": 11,
   "metadata": {
    "collapsed": true
   },
   "outputs": [],
   "source": [
    "def modeltraining(val,regularization):\n",
    "        c_val = 1/val                                       #calculating the c value\n",
    "        \n",
    "        #initialize the logisitc regression model.\n",
    "        my_model = LogisticRegression(C=c_val,penalty=regularization)\n",
    "\n",
    "        #Create the training/testing data and labels\n",
    "        Xtrain = num.array(train_feature[:,:])\n",
    "        ytrain = traindata.iloc[:,1]\n",
    "\n",
    "        Xtest = num.array(test_feature[:,:])\n",
    "        ytest = testdata.iloc[:,1]\n",
    "\n",
    "        #print Xtrain.shape\n",
    "        #print ytrain.shape\n",
    "        #print Xtest.shape\n",
    "        #print ytest.shape\n",
    "        \n",
    "        my_model.fit(Xtrain, ytrain.values)               #fitting the model with the training values\n",
    "        \n",
    "        predict_label = my_model.predict(Xtest)           #predicting the model values\n",
    "\n",
    "        #the original label is ytest\n",
    "        true_label = ytest.values\n",
    "\n",
    "        #print \"The true labels are       : {}\".format(true_label)\n",
    "        #print \"Model predicted labels are: {}\".format(predict_label)'''\n",
    "        \n",
    "        print \n",
    "        print \"Model accuracy is: {}%\".format(num.round(accuracy_score(true_label, predict_label)*100, decimals=2))\n",
    "        print\n",
    "        print \"Confusion Matrix is :\"\n",
    "        print confusion_matrix(true_label, predict_label, labels=[\"B\", \"M\"])\n",
    "        print\n",
    "        print \"Precision score is :\",precision_score(true_label, predict_label,labels=[\"B\",\"M\"],average='weighted')\n",
    "        print \"Recall score is: \",recall_score(true_label, predict_label,labels=[\"B\",\"M\"],average='weighted')\n",
    "        print \"F1-Score is :\",f1_score(true_label, predict_label,average='weighted')"
   ]
  },
  {
   "cell_type": "markdown",
   "metadata": {},
   "source": [
    "Training using <b>L1</b> regularization. In the output, we can see the accuracy accounts to 90%."
   ]
  },
  {
   "cell_type": "code",
   "execution_count": 12,
   "metadata": {},
   "outputs": [
    {
     "name": "stdout",
     "output_type": "stream",
     "text": [
      "\n",
      "Model accuracy is: 90.0%\n",
      "\n",
      "Confusion Matrix is :\n",
      "[[13  1]\n",
      " [ 1  5]]\n",
      "\n",
      "Precision score is : 0.9\n",
      "Recall score is:  0.9\n",
      "F1-Score is : 0.9\n"
     ]
    }
   ],
   "source": [
    "#assigining the alpha value and calling the above function modeltraining with l1 regularization\n",
    "\n",
    "alpha = 0.1\n",
    "modeltraining(num.float(alpha),'l1')"
   ]
  },
  {
   "cell_type": "markdown",
   "metadata": {},
   "source": [
    "Training using <b>L2</b> regularization. In the output, we can see the accuracy accounts to 90%."
   ]
  },
  {
   "cell_type": "code",
   "execution_count": 13,
   "metadata": {},
   "outputs": [
    {
     "name": "stdout",
     "output_type": "stream",
     "text": [
      "\n",
      "Model accuracy is: 90.0%\n",
      "\n",
      "Confusion Matrix is :\n",
      "[[13  1]\n",
      " [ 1  5]]\n",
      "\n",
      "Precision score is : 0.9\n",
      "Recall score is:  0.9\n",
      "F1-Score is : 0.9\n"
     ]
    }
   ],
   "source": [
    "#assigining the lambda value and calling the above function modeltraining with l2 regularization\n",
    "\n",
    "lambdaval = 0.1\n",
    "modeltraining(num.float(lambdaval),'l2')"
   ]
  },
  {
   "cell_type": "markdown",
   "metadata": {},
   "source": [
    "## 1.3 Choosing the best hyper-parameter\n",
    "\n",
    "### a. Random Splits\n",
    "\n",
    "For choosing the best hyper parameter we have to perform 100 random splits for training data into training and validation data and compute the average accuracy for each pair. We have created the function besthyperparameter which accepts either alpha/lambda value and also regularization l1 and l2 respectively. We have added the labels to the training features using the column stack under the numpy library and then split the data. "
   ]
  },
  {
   "cell_type": "code",
   "execution_count": 14,
   "metadata": {
    "collapsed": true
   },
   "outputs": [],
   "source": [
    "def besthyperparameter(val,regularization):\n",
    "    trials=100                                                      #To run loop 100 times\n",
    "    c_val = 1/val                                                   #calculating the c value\n",
    "    my_model = LogisticRegression(C=c_val,penalty=regularization)   #initializing the model \n",
    "    model_accs  = num.zeros(trials)                                 #storing model accuracy\n",
    "    \n",
    "    for i in range(0,trials):\n",
    "        \n",
    "        #Spliting the training data into training and validation data\n",
    "        #train_feature only contains features and not the labels\n",
    "        #using column stack from numpy library for appending the labels columns to the features column\n",
    "        #using train_test_split function to split the training data\n",
    "        \n",
    "        Dtrain, Dval = train_test_split((num.column_stack((train_feature,(traindata.iloc[:,1])))), test_size=0.3)\n",
    "        \n",
    "        #Dtrain contains the training data\n",
    "        Xtrain = num.array(Dtrain[:, 0:30])\n",
    "        ytrain = num.array(Dtrain[:,30])\n",
    "\n",
    "        #Dval contains the validation data\n",
    "        Xval = num.array(Dval[:, 0:30])\n",
    "        yval = num.array(Dval[:,30])\n",
    "        \n",
    "        #fitting the model with the training values\n",
    "        my_model.fit(Xtrain,ytrain)\n",
    "        \n",
    "        ypredicts = my_model.predict(Xval)                         #prediciting the labels using the validation data\n",
    "        ytruelabels = yval                                         #calculating the true lables\n",
    "        model_accs[i]  = accuracy_score(ytruelabels, ypredicts)    #For each iteration storing the accuracy value\n",
    "        \n",
    "        #To compute average accuracy over 100 random splits we are taking the mean of all the values\n",
    "    return num.mean(model_accs)"
   ]
  },
  {
   "cell_type": "markdown",
   "metadata": {},
   "source": [
    "Now, we are calling the above defined functions with the set of alpha values and l1 regularization. We are computing the average accuracy for each alpha value and finding out the best alpha value which gives the maximum accuracy value."
   ]
  },
  {
   "cell_type": "code",
   "execution_count": 15,
   "metadata": {},
   "outputs": [
    {
     "name": "stdout",
     "output_type": "stream",
     "text": [
      "Accuracy Score when alpha is 0.1 using L1 model is : 0.987666666667\n",
      "Accuracy Score when alpha is 1 using L1 model is : 0.985333333333\n",
      "Accuracy Score when alpha is 3 using L1 model is : 0.972333333333\n",
      "Accuracy Score when alpha is 10 using L1 model is : 0.938666666667\n",
      "Accuracy Score when alpha is 33 using L1 model is : 0.58\n",
      "Accuracy Score when alpha is 100 using L1 model is : 0.579666666667\n",
      "Accuracy Score when alpha is 333 using L1 model is : 0.582\n",
      "Accuracy Score when alpha is 1000 using L1 model is : 0.570666666667\n",
      "Accuracy Score when alpha is 3333 using L1 model is : 0.582\n",
      "Accuracy Score when alpha is 10000 using L1 model is : 0.571333333333\n",
      "Accuracy Score when alpha is 33333 using L1 model is : 0.585333333333\n",
      "Best Alpha: 0.1\n"
     ]
    }
   ],
   "source": [
    "alpha_vals = [0.1,1,3,10,33,100,333,1000, 3333, 10000, 33333]                 #Array of alpha values\n",
    "l1_acc = num.zeros(len(alpha_vals))                                           #Creating an array of equal length\n",
    "index=0\n",
    "\n",
    "for l in alpha_vals:\n",
    "    l1_acc[index] = besthyperparameter(num.float(l),'l1')                     #Calling function with each alpha value\n",
    "    index+=1\n",
    "\n",
    "index = 0\n",
    "for acc_val in alpha_vals:\n",
    "    print \"Accuracy Score when alpha is {} using L1 model is : {}\".format(alpha_vals[index],l1_acc[index])\n",
    "    index+=1\n",
    "    \n",
    "max_index_l1  = num.argmax(l1_acc)                                            #Using argmax to find the index with max value\n",
    "best_alpha = alpha_vals[max_index_l1]                                         #Passing the max value to retrieve the alpha value\n",
    "    \n",
    "print \"Best Alpha: {}\".format(best_alpha)"
   ]
  },
  {
   "cell_type": "markdown",
   "metadata": {},
   "source": [
    "Now, we are calling the above defined functions with the set of lambda values and l2 regularization. We are computing the average accuracy for each lambda value and finding out the best lambda value which gives the maximum accuracy value."
   ]
  },
  {
   "cell_type": "code",
   "execution_count": 16,
   "metadata": {},
   "outputs": [
    {
     "name": "stdout",
     "output_type": "stream",
     "text": [
      "Accuracy Score when lambda is 0.001 using L2 model is : 0.988\n",
      "Accuracy Score when lambda is 0.003 using L2 model is : 0.987333333333\n",
      "Accuracy Score when lambda is 0.01 using L2 model is : 0.988\n",
      "Accuracy Score when lambda is 0.03 using L2 model is : 0.993\n",
      "Accuracy Score when lambda is 0.1 using L2 model is : 0.994333333333\n",
      "Accuracy Score when lambda is 0.3 using L2 model is : 0.992333333333\n",
      "Accuracy Score when lambda is 1 using L2 model is : 0.994333333333\n",
      "Accuracy Score when lambda is 3 using L2 model is : 0.992333333333\n",
      "Accuracy Score when lambda is 10 using L2 model is : 0.991333333333\n",
      "Accuracy Score when lambda is 33 using L2 model is : 0.976333333333\n",
      "Best Lambda: 0.1\n"
     ]
    }
   ],
   "source": [
    "lambda_vals = [0.001, 0.003, 0.01, 0.03, 0.1,0.3,1,3,10,33]                  #Array of lambda values\n",
    "l2_acc = num.zeros(len(lambda_vals))                                         #Creating an array of equal length\n",
    "index=0\n",
    "\n",
    "for l in lambda_vals:\n",
    "    l2_acc[index] = besthyperparameter(num.float(l),'l2')                    #Calling function with each lambda value\n",
    "    index+=1\n",
    "\n",
    "index = 0\n",
    "for acc_val in lambda_vals:\n",
    "    print \"Accuracy Score when lambda is {} using L2 model is : {}\".format(lambda_vals[index],l2_acc[index])\n",
    "    index+=1\n",
    "    \n",
    "max_index_l2  = num.argmax(l2_acc)                                          #Using argmax to find the index with max value\n",
    "best_lambda = lambda_vals[max_index_l2]                                     #Passing the max value to retrieve the lambda value\n",
    "    \n",
    "print \"Best Lambda: {}\".format(best_lambda)"
   ]
  },
  {
   "cell_type": "markdown",
   "metadata": {},
   "source": [
    "### b. Retraining Model\n",
    "\n",
    "Now we have to retrain our model using the best alpha and lambda values using l1 and l2 regularization and predict the performance on the test data. We need to also evaluate the accuracy, precision, recall, f1-score, confusion matrix and the top five weights in the decreasing order."
   ]
  },
  {
   "cell_type": "code",
   "execution_count": 17,
   "metadata": {
    "collapsed": true
   },
   "outputs": [],
   "source": [
    "def retrainModel(val,regularization):\n",
    "    \n",
    "    c_val=num.float(1/val)                                                    #calculating the c value\n",
    "    my_model = LogisticRegression(C=c_val,penalty=regularization)             #initializing the model\n",
    "\n",
    "    #Create the training/testing data and labels\n",
    "    Xtrain = num.array(train_feature[:,:])\n",
    "    ytrain = traindata.iloc[:,1]\n",
    "\n",
    "    Xtest = num.array(test_feature[:,:])\n",
    "    ytest = testdata.iloc[:,1]\n",
    "    \n",
    "    my_model.fit(Xtrain, ytrain.values)                                       #fitting the model with the training values\n",
    "    \n",
    "    predict_label = my_model.predict(Xtest)                                   #predicting the model values\n",
    "\n",
    "    true_label = ytest.values                                                 #the original label is ytest\n",
    "\n",
    "    model_weights   = my_model.coef_                                          #calculating the coefficients\n",
    "    weights = ((num.argsort(model_weights))[0])[::-1]                         #sorting the model weights in descending order\n",
    "    \n",
    "    #print \"The true labels are       : {}\".format(true_label)\n",
    "    #print\n",
    "    #print \"Model predicted labels are: {}\".format(predict_label)\n",
    "    #print\n",
    "    \n",
    "    print accuracy_score(true_label, predict_label)\n",
    "    print \"Model accuracy is: {}%\".format(num.round(accuracy_score(true_label, predict_label)*100, decimals=2))\n",
    "    print\n",
    "    print \"Confusion Matrix is :\"\n",
    "    print confusion_matrix(true_label, predict_label, labels=[\"B\", \"M\"])\n",
    "    print\n",
    "    print \"Precision score is :\",precision_score(true_label, predict_label,labels=[\"B\",\"M\"],average='weighted')\n",
    "    print \"Recall score is: \",recall_score(true_label, predict_label,labels=[\"B\",\"M\"],average='weighted')\n",
    "    print \"F1-Score is :\",f1_score(true_label, predict_label,average='weighted')\n",
    "    print\n",
    "    print \"Top 5 features selected in decreasing order of feature weights are:\"\n",
    "    print weights[0:5]+1                                                     #taking top 5 weights"
   ]
  },
  {
   "cell_type": "markdown",
   "metadata": {},
   "source": [
    "Passing the <b>best alpha value</b> to call the retrainModel function."
   ]
  },
  {
   "cell_type": "code",
   "execution_count": 18,
   "metadata": {},
   "outputs": [
    {
     "name": "stdout",
     "output_type": "stream",
     "text": [
      "0.9\n",
      "Model accuracy is: 90.0%\n",
      "\n",
      "Confusion Matrix is :\n",
      "[[13  1]\n",
      " [ 1  5]]\n",
      "\n",
      "Precision score is : 0.9\n",
      "Recall score is:  0.9\n",
      "F1-Score is : 0.9\n",
      "\n",
      "Top 5 features selected in decreasing order of feature weights are:\n",
      "[23 22 25 21  4]\n"
     ]
    }
   ],
   "source": [
    "#retraining the model with best alpha value and l1 regularization\n",
    "retrainModel(best_alpha,'l1')"
   ]
  },
  {
   "cell_type": "markdown",
   "metadata": {},
   "source": [
    "Passing the <b>best lambda value</b> to call the retrainModel function."
   ]
  },
  {
   "cell_type": "code",
   "execution_count": 19,
   "metadata": {},
   "outputs": [
    {
     "name": "stdout",
     "output_type": "stream",
     "text": [
      "0.9\n",
      "Model accuracy is: 90.0%\n",
      "\n",
      "Confusion Matrix is :\n",
      "[[13  1]\n",
      " [ 1  5]]\n",
      "\n",
      "Precision score is : 0.9\n",
      "Recall score is:  0.9\n",
      "F1-Score is : 0.9\n",
      "\n",
      "Top 5 features selected in decreasing order of feature weights are:\n",
      "[22  2 25 21 23]\n"
     ]
    }
   ],
   "source": [
    "#retraining the model with best lambda value and l2 regularization\n",
    "retrainModel(best_lambda,'l2')"
   ]
  },
  {
   "cell_type": "markdown",
   "metadata": {},
   "source": [
    "<b>Underfitting/Overfitting</b>\n",
    "\n",
    "A model that can not model the training model or cannot generalize the data is overfitting and it usually gives low performance on data. Whereas if a model trains too well it is overfitting, but there are chances that this model may react to noise and hence cause a negative impact. \n",
    "\n",
    "When we used different values of alpha for L1 and lambda for L2 regularizations, we saw that training accuracy went down drastically for L1 when alpha value was changed from 10 to 33. If the performance goes down, it means the model is overfitting and learning the irrelevant noise and details. We need to find the best fit for the data before it starts giving the error. But in case of L2 regularization, there was just a slight variation for the accuracy. It was basically reacting to each value of lambda and may be a good fit for the data.\n",
    "\n",
    "When we retrained our model with the best alpha and lambda values, accuracy was still the same. along with the precision, recall and f1 score. Hence the best value is the best fit for the data as it si not adhering to any noise. We can interpret that the top 5 features are different when using l1 reglarization and l2 regularization.\n"
   ]
  },
  {
   "cell_type": "markdown",
   "metadata": {},
   "source": [
    "# Part -2 (Multiclass Classification) Solutions\n",
    "\n",
    "## 2.1 One-vs-Rest Classifier\n",
    "\n",
    "### 1. Reading files and Printing data\n",
    "\n",
    "Here we are reading the data file using pandas and finding the following:\n",
    "\n",
    "a. Number of data points - By using the len function\n",
    "\n",
    "b. Total number of features - By taking transpose of data and finding the total features.\n",
    "\n",
    "c. Unique labels - By using unique function under numpy library"
   ]
  },
  {
   "cell_type": "code",
   "execution_count": 20,
   "metadata": {},
   "outputs": [
    {
     "name": "stdout",
     "output_type": "stream",
     "text": [
      "Number of data points are : 2520\n",
      "Total Number of features in data are : 784\n",
      "Unique labels in the data are : [0 1 2 3 4 5 6 7 8 9]\n"
     ]
    }
   ],
   "source": [
    "#Reading the file\n",
    "data = pd.read_csv(\"data/mnist/reduced_mnist.csv\", delimiter=',')\n",
    "print \"Number of data points are :\", len(data)\n",
    "\n",
    "#Computing number of features in the data\n",
    "data_feature = data.iloc[:,1:]\n",
    "print \"Total Number of features in data are :\",len(data_feature.T)\n",
    "\n",
    "#Computing unique labels in the data\n",
    "unique_labels = num.unique(data.iloc[:,0])\n",
    "print \"Unique labels in the data are :\", unique_labels"
   ]
  },
  {
   "cell_type": "markdown",
   "metadata": {},
   "source": [
    "### 2. Fitting One-vs-Rest Classifier\n",
    "\n",
    "In this part, we have to split the data. We can directly take the 70% and 30% of data, but here we are randomly spliting the data into 70% training and 30% test data as it is not mentioned."
   ]
  },
  {
   "cell_type": "code",
   "execution_count": 21,
   "metadata": {},
   "outputs": [
    {
     "name": "stdout",
     "output_type": "stream",
     "text": [
      "1781\n",
      "739\n"
     ]
    }
   ],
   "source": [
    "#Randomly selecting the data by spliting it into 70% and 30%\n",
    "mask = num.random.rand(len(data)) < 0.7\n",
    "\n",
    "#taking the 70% data\n",
    "train = data[mask]\n",
    "\n",
    "#taking the 30% data\n",
    "test = data[~mask]\n",
    "\n",
    "print len(train)                                    #length of the training data\n",
    "print len(test)                                     #Length of the test data"
   ]
  },
  {
   "cell_type": "markdown",
   "metadata": {},
   "source": [
    "We have created the function onevsrestClassifier which takes the alpha value and trains the model using l1 regularization and then computes the accuracy, precision, confusion matrix and recall score. By default, logistic regression uses the one vs rest classifier as it sets the multi_class='ovr'. If you want to write it, you can use <b>multi_class='ovr'</b> inside the logisticregression function."
   ]
  },
  {
   "cell_type": "code",
   "execution_count": 22,
   "metadata": {
    "collapsed": true
   },
   "outputs": [],
   "source": [
    "def onevsrestClassifier(val):\n",
    "    c_val=num.float(1/val)                                               #calculating the c value\n",
    "    my_model = LogisticRegression(C=c_val,penalty='l1')                  #initializing the logistic regression model\n",
    "\n",
    "    #Create the training/testing data and labels\n",
    "    Xtrain = train.iloc[:,:]\n",
    "    ytrain = train.iloc[:,0]\n",
    "\n",
    "    Xtest = test.iloc[:,:]\n",
    "    ytest = test.iloc[:,0]\n",
    "    \n",
    "    my_model.fit(Xtrain.values, ytrain.values)                           #fitting the model with the training values\n",
    "    \n",
    "    predict_label = my_model.predict(Xtest)                              #predicting the model with the test value\n",
    "\n",
    "    true_label = ytest.values                                            #the original label is ytest\n",
    "    \n",
    "    print accuracy_score(true_label, predict_label)\n",
    "    print \"Model accuracy is: {}%\".format(num.round(accuracy_score(true_label, predict_label)*100, decimals=2))\n",
    "    print\n",
    "    print \"Confusion Matrix is :\"\n",
    "    print confusion_matrix(true_label, predict_label)\n",
    "    print\n",
    "    print \"Precision score is :\",precision_score(true_label, predict_label,average='weighted')\n",
    "    print \"Recall score is: \",recall_score(true_label, predict_label,average='weighted')"
   ]
  },
  {
   "cell_type": "markdown",
   "metadata": {},
   "source": [
    "Calling the above defined function by passing alpha value as 1."
   ]
  },
  {
   "cell_type": "code",
   "execution_count": 23,
   "metadata": {},
   "outputs": [
    {
     "name": "stdout",
     "output_type": "stream",
     "text": [
      "0.845737483085\n",
      "Model accuracy is: 84.57%\n",
      "\n",
      "Confusion Matrix is :\n",
      "[[62  1  1  0  0  0  1  1  1  0]\n",
      " [ 0 75  1  1  0  1  0  0  0  0]\n",
      " [ 1  3 65  3  2  1  2  0  3  0]\n",
      " [ 1  0  8 64  0  6  1  0  0  1]\n",
      " [ 1  0  0  0 63  0  1  1  5  7]\n",
      " [ 4  0  3  5  0 58  1  0  5  2]\n",
      " [ 2  0  0  0  0  0 59  0  0  0]\n",
      " [ 0  1  2  0  2  0  0 65  3  3]\n",
      " [ 0  3  2  1  1  3  0  0 50  2]\n",
      " [ 2  0  2  0  2  2  0  3  3 64]]\n",
      "\n",
      "Precision score is : 0.848010027283\n",
      "Recall score is:  0.845737483085\n"
     ]
    }
   ],
   "source": [
    "#Using alpha value as 1 we are calling the onevsrestClassifier function\n",
    "onevsrestClassifier(1)"
   ]
  },
  {
   "cell_type": "markdown",
   "metadata": {},
   "source": [
    "## 2.2 Choosing the best hyper-parameter\n",
    "\n",
    "### 1. Random Splits for Training\n",
    "\n",
    "Here we are taking 10 random splits for the training data into training and validation, and finding the average accuracy for each pair. We are spliting our training data into Dtrain and Dval by giving the test size as 0.3."
   ]
  },
  {
   "cell_type": "code",
   "execution_count": 24,
   "metadata": {
    "collapsed": true
   },
   "outputs": [],
   "source": [
    "def choosebestvalhyperparameter(val):\n",
    "    trials=10                                                              #running the loop for 10 times\n",
    "    c_val = 1/val                                                          #calculating the c value\n",
    "    my_model = LogisticRegression(C=c_val,penalty='l1')                    #initalizing the logistic regression model with l1\n",
    "    model_accs  = num.zeros(trials)                                        #storing model accuracy\n",
    "    \n",
    "    for i in range(0,trials):\n",
    "        Dtrain, Dval = train_test_split(train.iloc[:,:], test_size=0.3)    #Spliting the training into training and validation\n",
    "    \n",
    "        Xtrain = Dtrain.iloc[:, 1:]\n",
    "        ytrain = Dtrain.iloc[:,0]\n",
    "\n",
    "        Xval = Dval.iloc[:, 1:]\n",
    "        yval = Dval.iloc[:,0]\n",
    "        \n",
    "        #print Xtrain.shape\n",
    "        #print ytrain.shape\n",
    "        #print Xval.shape\n",
    "        #print yval.shape\n",
    "        \n",
    "        my_model.fit(Xtrain,ytrain)                                        #fitting the model with the training values\n",
    "        \n",
    "        ypredicts = my_model.predict(Xval)                                 #predicting the values using val values\n",
    "        ytruelabels = yval                                                 #assiging the values to true labels\n",
    "        model_accs[i]  = accuracy_score(ytruelabels, ypredicts)            #storing accuracy for each run\n",
    "        \n",
    "        #To find the average value of accuracy, we are taking the mean of all the values\n",
    "    return num.mean(model_accs)"
   ]
  },
  {
   "cell_type": "markdown",
   "metadata": {},
   "source": [
    "Now, we are calling the above defined functions with the set of alpha values and l1 regularization. We are computing the average accuracy and finding out the best alpha value which gives the maximum accuracy value."
   ]
  },
  {
   "cell_type": "code",
   "execution_count": 25,
   "metadata": {},
   "outputs": [
    {
     "name": "stdout",
     "output_type": "stream",
     "text": [
      "Accuracy Score when alpha is 0.1 using L1 model is : 0.842990654206\n",
      "Accuracy Score when alpha is 1 using L1 model is : 0.840186915888\n",
      "Accuracy Score when alpha is 3 using L1 model is : 0.835700934579\n",
      "Accuracy Score when alpha is 10 using L1 model is : 0.841121495327\n",
      "Accuracy Score when alpha is 33 using L1 model is : 0.84953271028\n",
      "Accuracy Score when alpha is 100 using L1 model is : 0.851401869159\n",
      "Accuracy Score when alpha is 333 using L1 model is : 0.862803738318\n",
      "Accuracy Score when alpha is 1000 using L1 model is : 0.851962616822\n",
      "Accuracy Score when alpha is 3333 using L1 model is : 0.800934579439\n",
      "Accuracy Score when alpha is 10000 using L1 model is : 0.711962616822\n",
      "Accuracy Score when alpha is 33333 using L1 model is : 0.556074766355\n",
      "Best Alpha: 333\n"
     ]
    }
   ],
   "source": [
    "alpha_vals = [0.1, 1, 3, 10, 33, 100, 333, 1000, 3333, 10000, 33333]             #Creating an array of alpha values\n",
    "\n",
    "l1_val_acc = num.zeros(len(alpha_vals))                                          #creating an array of equal length\n",
    "index=0\n",
    "\n",
    "for l in alpha_vals:\n",
    "    l1_val_acc[index] = choosebestvalhyperparameter(num.float(l))                #calling the function with each alpha value\n",
    "    index+=1\n",
    "\n",
    "index = 0\n",
    "for acc_val in alpha_vals:\n",
    "    print \"Accuracy Score when alpha is {} using L1 model is : {}\".format(alpha_vals[index],l1_val_acc[index])\n",
    "    index+=1\n",
    "    \n",
    "max_index_l1_val  = num.argmax(l1_val_acc)                                      #Finding the index with the max accuracy value\n",
    "best_val_alpha = alpha_vals[max_index_l1_val]                                   #Finding the best alpha value\n",
    "    \n",
    "print \"Best Alpha: {}\".format(best_val_alpha)"
   ]
  },
  {
   "cell_type": "markdown",
   "metadata": {},
   "source": [
    "### 2. Random Splits for Data\n",
    "\n",
    "Here we are taking 10 random splits for the data into training and testing, and finding the average accuracy for each pair. We are spliting our original data into Dtrain and Dval by giving the test size as 0.3."
   ]
  },
  {
   "cell_type": "code",
   "execution_count": 26,
   "metadata": {
    "collapsed": true
   },
   "outputs": [],
   "source": [
    "def choosebesttrainhyperparameter(val):\n",
    "    trials=10                                                               #Running the loop 10 times\n",
    "    c_val = 1/val                                                           #Calculating the c value\n",
    "    my_model = LogisticRegression(C=c_val,penalty='l1')                     #Initializing the logistic regression model with l1\n",
    "    model_accs  = num.zeros(trials)                                         #storing model accuracy\n",
    "    \n",
    "    for i in range(0,trials):\n",
    "        Dtrain, Dval = train_test_split(data.iloc[:,:], test_size=0.3)      #Splitting the data into training and test\n",
    "    \n",
    "        Xtrain = Dtrain.iloc[:, 1:]\n",
    "        ytrain = Dtrain.iloc[:,0]\n",
    "\n",
    "        Xtest = Dval.iloc[:, 1:]\n",
    "        ytest = Dval.iloc[:,0]\n",
    "        \n",
    "        #print Xtrain.shape\n",
    "        #print ytrain.shape\n",
    "        #print Xval.shape\n",
    "        #print yval.shape\n",
    "        \n",
    "        my_model.fit(Xtrain,ytrain)                                         #fitting the model with the training values\n",
    "        \n",
    "        ypredicts = my_model.predict(Xtest)                                 #prediciting the labels with the test values\n",
    "        ytruelabels = ytest                                                 #assiging the true labels\n",
    "        model_accs[i]  = accuracy_score(ytruelabels, ypredicts)             #storing accuracy for each run\n",
    "        \n",
    "        #To find the average value of accuracy, we are taking the mean of all the values\n",
    "        \n",
    "    return num.mean(model_accs)"
   ]
  },
  {
   "cell_type": "markdown",
   "metadata": {},
   "source": [
    "Now, we are calling the above defined functions with the set of alpha values and l1 regularization. We are computing the average accuracy and finding out the best alpha value which gives the maximum accuracy value."
   ]
  },
  {
   "cell_type": "code",
   "execution_count": 27,
   "metadata": {},
   "outputs": [
    {
     "name": "stdout",
     "output_type": "stream",
     "text": [
      "Accuracy Score when alpha is 0.1 using L1 model is : 0.834391534392\n",
      "Accuracy Score when alpha is 1 using L1 model is : 0.836772486772\n",
      "Accuracy Score when alpha is 3 using L1 model is : 0.833333333333\n",
      "Accuracy Score when alpha is 10 using L1 model is : 0.835582010582\n",
      "Accuracy Score when alpha is 33 using L1 model is : 0.845899470899\n",
      "Accuracy Score when alpha is 100 using L1 model is : 0.859788359788\n",
      "Accuracy Score when alpha is 333 using L1 model is : 0.870502645503\n",
      "Accuracy Score when alpha is 1000 using L1 model is : 0.860846560847\n",
      "Accuracy Score when alpha is 3333 using L1 model is : 0.826984126984\n",
      "Accuracy Score when alpha is 10000 using L1 model is : 0.738888888889\n",
      "Accuracy Score when alpha is 33333 using L1 model is : 0.605158730159\n",
      "Best Alpha: 333\n"
     ]
    }
   ],
   "source": [
    "alpha_vals = [0.1, 1, 3, 10, 33, 100, 333, 1000, 3333, 10000, 33333]          #Creating an array of alpha values\n",
    "\n",
    "l1_train_acc = num.zeros(len(alpha_vals))                                     #creating an array of equal length\n",
    "index=0\n",
    "\n",
    "for l in alpha_vals:\n",
    "    l1_train_acc[index] = choosebesttrainhyperparameter(num.float(l))         #calling the function with each alpha value\n",
    "    index+=1\n",
    "\n",
    "index = 0\n",
    "for acc_val in alpha_vals:\n",
    "    print \"Accuracy Score when alpha is {} using L1 model is : {}\".format(alpha_vals[index],l1_train_acc[index])\n",
    "    index+=1\n",
    "    \n",
    "max_index_l1_train  = num.argmax(l1_train_acc)                                #Finding the index with the max accuracy value\n",
    "best_train_alpha = alpha_vals[max_index_l1_train]                             #Finding the best alpha value\n",
    "    \n",
    "print \"Best Alpha: {}\".format(best_train_alpha)"
   ]
  },
  {
   "cell_type": "markdown",
   "metadata": {},
   "source": [
    "### 3. Plotting Average Training Accuracy/ Validation Accuracy\n",
    "\n",
    "Here we are going to plot the graph for the average training accuracy versus average validation accuracy. From the graph, we can see both the training and validation accuracy are producing the best accuracy for the alpha value 333. \n",
    "\n",
    "Underfitting can usually be detected by observing low accuracy on training set, but in this case it is reacting to each value of alpha. It is difficult to tell if it is underfitting. \n",
    "\n",
    "Overfitting can usually be detected by if there is great mismatch between accuracies on train and validation sets. Here, we can see there is not a great mismatch between the values, there is just a slight variation.It's normal to have validation set accuracy slightly lower than train set accuracy, which can be seen after the alpha value is increased after 333. IT is difficult to discuss if it is overfitting."
   ]
  },
  {
   "cell_type": "code",
   "execution_count": 28,
   "metadata": {},
   "outputs": [
    {
     "data": {
      "text/plain": [
       "<matplotlib.legend.Legend at 0x1092b908>"
      ]
     },
     "execution_count": 28,
     "metadata": {},
     "output_type": "execute_result"
    },
    {
     "data": {
      "image/png": "[encoded data removed]",
      "text/plain": [
       "<matplotlib.figure.Figure at 0xd2cd978>"
      ]
     },
     "metadata": {},
     "output_type": "display_data"
    }
   ],
   "source": [
    "#plot the accuracy curve\n",
    "plt.plot(range(0,len(alpha_vals)), l1_val_acc, color='b', label='Validation Acuracy')\n",
    "plt.plot(range(0,len(alpha_vals)), l1_train_acc, color='r', label='Training Accuracy')\n",
    "\n",
    "#replace the x-axis labels with penalty values\n",
    "plt.xticks(range(0,len(alpha_vals)), alpha_vals, rotation='vertical') \n",
    "\n",
    "#Highlight the best values of alpha for training and validation accuracy\n",
    "plt.plot((max_index_l1_val, max_index_l1_val), (0, l1_val_acc[max_index_l1_val]), ls='dotted', color='b')\n",
    "plt.plot((max_index_l1_train, max_index_l1_train), (0, l1_train_acc[max_index_l1_train]), ls='dotted', color='r')\n",
    "\n",
    "#Set the y-axis from 0 to 1.0\n",
    "axes = plt.gca()\n",
    "axes.set_ylim([0, 1.0])\n",
    "\n",
    "plt.legend(loc=\"lower left\")"
   ]
  },
  {
   "cell_type": "markdown",
   "metadata": {},
   "source": [
    "### 4. Evaluating Performance on Test Data\n",
    "\n",
    "Here, we are going to retrain our model using the best alpha value and compute the following:\n",
    "\n",
    "a. Number of non-zero features\n",
    "\n",
    "b. Confusion Matrix\n",
    "\n",
    "c. Precision, Accuracy and Recall for each class"
   ]
  },
  {
   "cell_type": "code",
   "execution_count": 29,
   "metadata": {
    "collapsed": true
   },
   "outputs": [],
   "source": [
    "def retrainfinalModel(val):\n",
    "    \n",
    "    c_val=num.float(1/val)                                             #Calculating the c value\n",
    "    my_model = LogisticRegression(C=c_val,penalty='l1')                #initializing the logistic regression model with l1\n",
    "\n",
    "    #Create the training/testing data and labels\n",
    "    Xtrain = train.iloc[:,:]\n",
    "    ytrain = train.iloc[:,0]\n",
    "\n",
    "    Xtest = test.iloc[:,:]\n",
    "    ytest = test.iloc[:,0]\n",
    "    \n",
    "    my_model.fit(Xtrain.values, ytrain.values)                         #fitting the model with the training values\n",
    "    \n",
    "    predict_label = my_model.predict(Xtest)                            #prediciting the values with the test values\n",
    "\n",
    "    true_label = ytest.values                                          #the original label is ytest\n",
    "\n",
    "    print \"Number of non-zero feautres are: \", num.count_nonzero(my_model.coef_)    #Computing number of non zero features\n",
    "    print\n",
    "    print \"Confusion Matrix is :\"\n",
    "    print confusion_matrix(true_label, predict_label)\n",
    "    \n",
    "    cm = confusion_matrix(true_label, predict_label)                    #Computing the confusion matrix\n",
    "    TP = num.diag(cm)                                                   #Computing the True Positive\n",
    "    FP = cm.sum(axis=0) - num.diag(cm)                                  #Computing the False Positive\n",
    "    FN = cm.sum(axis=1) - num.diag(cm)                                  #Computing the False Negative\n",
    "    TN = cm.sum() - (FP + FN + TP)                                      #Computing the True Negative\n",
    "    \n",
    "    i = 0\n",
    "    \n",
    "    #Creating an empty array\n",
    "    precision = []                                                      \n",
    "    recall = []\n",
    "    accuracy = []\n",
    "    \n",
    "    while i in range(0,10):\n",
    "        precision.append(float(TP[i])/float(TP[i] + FP[i]))                       #Computing the precision for each class\n",
    "        recall.append(float(TP[i])/float(TP[i]+FN[i]))                            #Computing the recall for each class\n",
    "        accuracy.append(float(TP[i] + TN[i])/float(TP[i]+TN[i]+FP[i]+FN[i])*100)  #Computing the accuracy for each class\n",
    "        i+=1\n",
    "    \n",
    "    i=0\n",
    "    print\n",
    "    print \"Labels                    Precision                        Recall                               Accuracy\"\n",
    "    while i in range(0,10):\n",
    "           print \"{}                        {}                   {}                        {}\" .format(i,precision[i],recall[i],accuracy[i])\n",
    "           print\n",
    "           i+=1"
   ]
  },
  {
   "cell_type": "markdown",
   "metadata": {},
   "source": [
    "Calling the above defined function using the best alpha value."
   ]
  },
  {
   "cell_type": "code",
   "execution_count": 30,
   "metadata": {},
   "outputs": [
    {
     "name": "stdout",
     "output_type": "stream",
     "text": [
      "Number of non-zero feautres are:  4292\n",
      "\n",
      "Confusion Matrix is :\n",
      "[[64  1  1  0  0  0  0  0  1  0]\n",
      " [ 0 77  1  0  0  0  0  0  0  0]\n",
      " [ 1  1 66  0  1  1  4  0  6  0]\n",
      " [ 3  0  6 65  0  5  1  0  0  1]\n",
      " [ 1  0  0  0 66  0  0  1  4  6]\n",
      " [ 2  0  1  2  0 61  3  2  7  0]\n",
      " [ 3  0  0  0  0  0 57  0  0  1]\n",
      " [ 0  1  1  0  2  0  0 67  2  3]\n",
      " [ 0  3  2  0  1  4  0  0 50  2]\n",
      " [ 2  0  1  0  2  1  0  3  5 64]]\n",
      "\n",
      "Labels                    Precision                        Recall                               Accuracy\n",
      "0                        0.842105263158                   0.955223880597                        97.9702300406\n",
      "\n",
      "1                        0.927710843373                   0.987179487179                        99.0527740189\n",
      "\n",
      "2                        0.835443037975                   0.825                        96.3464140731\n",
      "\n",
      "3                        0.970149253731                   0.802469135802                        97.5642760487\n",
      "\n",
      "4                        0.916666666667                   0.846153846154                        97.5642760487\n",
      "\n",
      "5                        0.847222222222                   0.782051282051                        96.2110960758\n",
      "\n",
      "6                        0.876923076923                   0.934426229508                        98.3761840325\n",
      "\n",
      "7                        0.917808219178                   0.881578947368                        97.9702300406\n",
      "\n",
      "8                        0.666666666667                   0.806451612903                        94.9932341001\n",
      "\n",
      "9                        0.831168831169                   0.820512820513                        96.3464140731\n",
      "\n"
     ]
    }
   ],
   "source": [
    "#Retraining the final model with the best alpha value\n",
    "retrainfinalModel(num.float(best_alpha))"
   ]
  },
  {
   "cell_type": "markdown",
   "metadata": {},
   "source": [
    "After retraining our model with the best alpha value, we can see the accuracy, precision and recall for each class label. As the precision and accuracy vary for each label, we can interpret that the model may be reacting to the noise and hence the data may be overfitting."
   ]
  }
 ],
 "metadata": {
  "kernelspec": {
   "display_name": "Python 3",
   "language": "python",
   "name": "python3"
  },
  "language_info": {
   "codemirror_mode": {
    "name": "ipython",
    "version": 3
   },
   "file_extension": ".py",
   "mimetype": "text/x-python",
   "name": "python",
   "nbconvert_exporter": "python",
   "pygments_lexer": "ipython3",
   "version": "3.6.4"
  }
 },
 "nbformat": 4,
 "nbformat_minor": 1
}
